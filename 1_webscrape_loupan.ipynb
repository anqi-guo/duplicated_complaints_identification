{
  "nbformat": 4,
  "nbformat_minor": 0,
  "metadata": {
    "colab": {
      "name": "1. webscrape_loupan.ipynb",
      "provenance": [],
      "collapsed_sections": [],
      "machine_shape": "hm",
      "authorship_tag": "ABX9TyOUlTOeXmmD+6rR0lOuAh6c",
      "include_colab_link": true
    },
    "kernelspec": {
      "name": "python3",
      "display_name": "Python 3"
    },
    "language_info": {
      "name": "python"
    },
    "widgets": {
      "application/vnd.jupyter.widget-state+json": {
        "d741fa767d454a7c90735e6e02c5e9cb": {
          "model_module": "@jupyter-widgets/controls",
          "model_name": "HBoxModel",
          "model_module_version": "1.5.0",
          "state": {
            "_dom_classes": [],
            "_model_module": "@jupyter-widgets/controls",
            "_model_module_version": "1.5.0",
            "_model_name": "HBoxModel",
            "_view_count": null,
            "_view_module": "@jupyter-widgets/controls",
            "_view_module_version": "1.5.0",
            "_view_name": "HBoxView",
            "box_style": "",
            "children": [
              "IPY_MODEL_c3d6747bbef2496aacf308680f030a28",
              "IPY_MODEL_275bb5a6bf894683aaefdd30e5c47189",
              "IPY_MODEL_42c505c6d056401886e81f0372b5ff49"
            ],
            "layout": "IPY_MODEL_941088c4fbff4bf9976b5b1b7ef32d4d"
          }
        },
        "c3d6747bbef2496aacf308680f030a28": {
          "model_module": "@jupyter-widgets/controls",
          "model_name": "HTMLModel",
          "model_module_version": "1.5.0",
          "state": {
            "_dom_classes": [],
            "_model_module": "@jupyter-widgets/controls",
            "_model_module_version": "1.5.0",
            "_model_name": "HTMLModel",
            "_view_count": null,
            "_view_module": "@jupyter-widgets/controls",
            "_view_module_version": "1.5.0",
            "_view_name": "HTMLView",
            "description": "",
            "description_tooltip": null,
            "layout": "IPY_MODEL_ab52f9c46a014862840c8aeaa1cedec3",
            "placeholder": "​",
            "style": "IPY_MODEL_b06288da6e1c4448a5fe23994cf65805",
            "value": "100%"
          }
        },
        "275bb5a6bf894683aaefdd30e5c47189": {
          "model_module": "@jupyter-widgets/controls",
          "model_name": "FloatProgressModel",
          "model_module_version": "1.5.0",
          "state": {
            "_dom_classes": [],
            "_model_module": "@jupyter-widgets/controls",
            "_model_module_version": "1.5.0",
            "_model_name": "FloatProgressModel",
            "_view_count": null,
            "_view_module": "@jupyter-widgets/controls",
            "_view_module_version": "1.5.0",
            "_view_name": "ProgressView",
            "bar_style": "success",
            "description": "",
            "description_tooltip": null,
            "layout": "IPY_MODEL_5e1a2c65da734d1398155966d157dc5a",
            "max": 13,
            "min": 0,
            "orientation": "horizontal",
            "style": "IPY_MODEL_9582f83cff78422b8a755c2200da1e9b",
            "value": 13
          }
        },
        "42c505c6d056401886e81f0372b5ff49": {
          "model_module": "@jupyter-widgets/controls",
          "model_name": "HTMLModel",
          "model_module_version": "1.5.0",
          "state": {
            "_dom_classes": [],
            "_model_module": "@jupyter-widgets/controls",
            "_model_module_version": "1.5.0",
            "_model_name": "HTMLModel",
            "_view_count": null,
            "_view_module": "@jupyter-widgets/controls",
            "_view_module_version": "1.5.0",
            "_view_name": "HTMLView",
            "description": "",
            "description_tooltip": null,
            "layout": "IPY_MODEL_7872741f35c1438b88c5e705c8d9ae17",
            "placeholder": "​",
            "style": "IPY_MODEL_ad7cf1745ff94d77a6b5cd3890450493",
            "value": " 13/13 [00:16&lt;00:00,  1.23s/it]"
          }
        },
        "941088c4fbff4bf9976b5b1b7ef32d4d": {
          "model_module": "@jupyter-widgets/base",
          "model_name": "LayoutModel",
          "model_module_version": "1.2.0",
          "state": {
            "_model_module": "@jupyter-widgets/base",
            "_model_module_version": "1.2.0",
            "_model_name": "LayoutModel",
            "_view_count": null,
            "_view_module": "@jupyter-widgets/base",
            "_view_module_version": "1.2.0",
            "_view_name": "LayoutView",
            "align_content": null,
            "align_items": null,
            "align_self": null,
            "border": null,
            "bottom": null,
            "display": null,
            "flex": null,
            "flex_flow": null,
            "grid_area": null,
            "grid_auto_columns": null,
            "grid_auto_flow": null,
            "grid_auto_rows": null,
            "grid_column": null,
            "grid_gap": null,
            "grid_row": null,
            "grid_template_areas": null,
            "grid_template_columns": null,
            "grid_template_rows": null,
            "height": null,
            "justify_content": null,
            "justify_items": null,
            "left": null,
            "margin": null,
            "max_height": null,
            "max_width": null,
            "min_height": null,
            "min_width": null,
            "object_fit": null,
            "object_position": null,
            "order": null,
            "overflow": null,
            "overflow_x": null,
            "overflow_y": null,
            "padding": null,
            "right": null,
            "top": null,
            "visibility": null,
            "width": null
          }
        },
        "ab52f9c46a014862840c8aeaa1cedec3": {
          "model_module": "@jupyter-widgets/base",
          "model_name": "LayoutModel",
          "model_module_version": "1.2.0",
          "state": {
            "_model_module": "@jupyter-widgets/base",
            "_model_module_version": "1.2.0",
            "_model_name": "LayoutModel",
            "_view_count": null,
            "_view_module": "@jupyter-widgets/base",
            "_view_module_version": "1.2.0",
            "_view_name": "LayoutView",
            "align_content": null,
            "align_items": null,
            "align_self": null,
            "border": null,
            "bottom": null,
            "display": null,
            "flex": null,
            "flex_flow": null,
            "grid_area": null,
            "grid_auto_columns": null,
            "grid_auto_flow": null,
            "grid_auto_rows": null,
            "grid_column": null,
            "grid_gap": null,
            "grid_row": null,
            "grid_template_areas": null,
            "grid_template_columns": null,
            "grid_template_rows": null,
            "height": null,
            "justify_content": null,
            "justify_items": null,
            "left": null,
            "margin": null,
            "max_height": null,
            "max_width": null,
            "min_height": null,
            "min_width": null,
            "object_fit": null,
            "object_position": null,
            "order": null,
            "overflow": null,
            "overflow_x": null,
            "overflow_y": null,
            "padding": null,
            "right": null,
            "top": null,
            "visibility": null,
            "width": null
          }
        },
        "b06288da6e1c4448a5fe23994cf65805": {
          "model_module": "@jupyter-widgets/controls",
          "model_name": "DescriptionStyleModel",
          "model_module_version": "1.5.0",
          "state": {
            "_model_module": "@jupyter-widgets/controls",
            "_model_module_version": "1.5.0",
            "_model_name": "DescriptionStyleModel",
            "_view_count": null,
            "_view_module": "@jupyter-widgets/base",
            "_view_module_version": "1.2.0",
            "_view_name": "StyleView",
            "description_width": ""
          }
        },
        "5e1a2c65da734d1398155966d157dc5a": {
          "model_module": "@jupyter-widgets/base",
          "model_name": "LayoutModel",
          "model_module_version": "1.2.0",
          "state": {
            "_model_module": "@jupyter-widgets/base",
            "_model_module_version": "1.2.0",
            "_model_name": "LayoutModel",
            "_view_count": null,
            "_view_module": "@jupyter-widgets/base",
            "_view_module_version": "1.2.0",
            "_view_name": "LayoutView",
            "align_content": null,
            "align_items": null,
            "align_self": null,
            "border": null,
            "bottom": null,
            "display": null,
            "flex": null,
            "flex_flow": null,
            "grid_area": null,
            "grid_auto_columns": null,
            "grid_auto_flow": null,
            "grid_auto_rows": null,
            "grid_column": null,
            "grid_gap": null,
            "grid_row": null,
            "grid_template_areas": null,
            "grid_template_columns": null,
            "grid_template_rows": null,
            "height": null,
            "justify_content": null,
            "justify_items": null,
            "left": null,
            "margin": null,
            "max_height": null,
            "max_width": null,
            "min_height": null,
            "min_width": null,
            "object_fit": null,
            "object_position": null,
            "order": null,
            "overflow": null,
            "overflow_x": null,
            "overflow_y": null,
            "padding": null,
            "right": null,
            "top": null,
            "visibility": null,
            "width": null
          }
        },
        "9582f83cff78422b8a755c2200da1e9b": {
          "model_module": "@jupyter-widgets/controls",
          "model_name": "ProgressStyleModel",
          "model_module_version": "1.5.0",
          "state": {
            "_model_module": "@jupyter-widgets/controls",
            "_model_module_version": "1.5.0",
            "_model_name": "ProgressStyleModel",
            "_view_count": null,
            "_view_module": "@jupyter-widgets/base",
            "_view_module_version": "1.2.0",
            "_view_name": "StyleView",
            "bar_color": null,
            "description_width": ""
          }
        },
        "7872741f35c1438b88c5e705c8d9ae17": {
          "model_module": "@jupyter-widgets/base",
          "model_name": "LayoutModel",
          "model_module_version": "1.2.0",
          "state": {
            "_model_module": "@jupyter-widgets/base",
            "_model_module_version": "1.2.0",
            "_model_name": "LayoutModel",
            "_view_count": null,
            "_view_module": "@jupyter-widgets/base",
            "_view_module_version": "1.2.0",
            "_view_name": "LayoutView",
            "align_content": null,
            "align_items": null,
            "align_self": null,
            "border": null,
            "bottom": null,
            "display": null,
            "flex": null,
            "flex_flow": null,
            "grid_area": null,
            "grid_auto_columns": null,
            "grid_auto_flow": null,
            "grid_auto_rows": null,
            "grid_column": null,
            "grid_gap": null,
            "grid_row": null,
            "grid_template_areas": null,
            "grid_template_columns": null,
            "grid_template_rows": null,
            "height": null,
            "justify_content": null,
            "justify_items": null,
            "left": null,
            "margin": null,
            "max_height": null,
            "max_width": null,
            "min_height": null,
            "min_width": null,
            "object_fit": null,
            "object_position": null,
            "order": null,
            "overflow": null,
            "overflow_x": null,
            "overflow_y": null,
            "padding": null,
            "right": null,
            "top": null,
            "visibility": null,
            "width": null
          }
        },
        "ad7cf1745ff94d77a6b5cd3890450493": {
          "model_module": "@jupyter-widgets/controls",
          "model_name": "DescriptionStyleModel",
          "model_module_version": "1.5.0",
          "state": {
            "_model_module": "@jupyter-widgets/controls",
            "_model_module_version": "1.5.0",
            "_model_name": "DescriptionStyleModel",
            "_view_count": null,
            "_view_module": "@jupyter-widgets/base",
            "_view_module_version": "1.2.0",
            "_view_name": "StyleView",
            "description_width": ""
          }
        }
      }
    }
  },
  "cells": [
    {
      "cell_type": "markdown",
      "metadata": {
        "id": "view-in-github",
        "colab_type": "text"
      },
      "source": [
        "<a href=\"https://colab.research.google.com/github/anqi-guo/duplicated_complaints_identification/blob/main/1_webscrape_loupan.ipynb\" target=\"_parent\"><img src=\"https://colab.research.google.com/assets/colab-badge.svg\" alt=\"Open In Colab\"/></a>"
      ]
    },
    {
      "cell_type": "code",
      "metadata": {
        "colab": {
          "base_uri": "https://localhost:8080/"
        },
        "id": "nV2w1kmWW852",
        "outputId": "e8b19a57-daf3-4b9b-f67f-48e8acf74a47"
      },
      "source": [
        "pip install fake_useragent"
      ],
      "execution_count": null,
      "outputs": [
        {
          "output_type": "stream",
          "name": "stdout",
          "text": [
            "Collecting fake_useragent\n",
            "  Downloading fake-useragent-0.1.11.tar.gz (13 kB)\n",
            "Building wheels for collected packages: fake-useragent\n",
            "  Building wheel for fake-useragent (setup.py) ... \u001b[?25l\u001b[?25hdone\n",
            "  Created wheel for fake-useragent: filename=fake_useragent-0.1.11-py3-none-any.whl size=13502 sha256=ffd4c513c21c1bf7d8fc4f996d673a0be7c05f89eb820d415d7f9967b8afa6de\n",
            "  Stored in directory: /root/.cache/pip/wheels/ed/f7/62/50ab6c9a0b5567267ab76a9daa9d06315704209b2c5d032031\n",
            "Successfully built fake-useragent\n",
            "Installing collected packages: fake-useragent\n",
            "Successfully installed fake-useragent-0.1.11\n"
          ]
        }
      ]
    },
    {
      "cell_type": "code",
      "metadata": {
        "id": "KPF9sgnrzr_x",
        "colab": {
          "base_uri": "https://localhost:8080/"
        },
        "outputId": "0a20572a-3dbb-4eae-dcb2-0a8cca3b7d59"
      },
      "source": [
        "from google.colab import drive\n",
        "drive.mount('/content/drive')"
      ],
      "execution_count": null,
      "outputs": [
        {
          "output_type": "stream",
          "name": "stdout",
          "text": [
            "Mounted at /content/drive\n"
          ]
        }
      ]
    },
    {
      "cell_type": "markdown",
      "source": [
        "# 新房"
      ],
      "metadata": {
        "id": "ID2xJaiwVci1"
      }
    },
    {
      "cell_type": "code",
      "source": [
        "import requests\n",
        "from fake_useragent import UserAgent\n",
        "from bs4 import BeautifulSoup\n",
        "import re\n",
        "\n",
        "headers = {'user-agent': str(UserAgent(verify_ssl=False).random)}\n",
        "\n",
        "new_loupan_dict = {}\n",
        "for page in range(1, 8):\n",
        "  response = requests.get(f'https://huaian.focus.cn/loupan/p{page}/', headers=headers)\n",
        "  response.encoding = 'utf-8'\n",
        "  soup = BeautifulSoup(response.text)\n",
        "\n",
        "  divTags = soup.find_all('div', class_='txt-center')\n",
        "  for tag in divTags:\n",
        "    sdivTags = tag.find('div', class_='title').findChild('a')\n",
        "    pTags = tag.find('p', class_='location').findChild('span')\n",
        "    for s, p in zip(sdivTags, pTags):\n",
        "      new_loupan_dict[s.strip()] = p.strip().split(' ')"
      ],
      "metadata": {
        "id": "z601IfBiqCfJ"
      },
      "execution_count": null,
      "outputs": []
    },
    {
      "cell_type": "code",
      "source": [
        "new_loupan_dict"
      ],
      "metadata": {
        "colab": {
          "base_uri": "https://localhost:8080/"
        },
        "id": "yM2rlgEBqx6F",
        "outputId": "92e6dd15-8b7e-4dcf-b5cb-de12ceb98b00"
      },
      "execution_count": null,
      "outputs": [
        {
          "output_type": "execute_result",
          "data": {
            "text/plain": [
              "{'万郡泰和嘉苑': ['涟水', '红日大道与海西路交汇处'],\n",
              " '上品小院': ['淮阴', '淮高镇棉花卫生院南300米'],\n",
              " '东城千江月': ['开发区', '福州路与大连路交汇处'],\n",
              " '东湖·璀璨天成': ['生态文旅区', '生态文旅区福地路南侧、丹山路东侧'],\n",
              " '中业广场': ['淮阴', '南昌北路9号'],\n",
              " '中交香滨国际': ['生态文旅区', '生态新城白云路与万瑞路交汇处'],\n",
              " '中保大厦': ['开发区', '迎宾大道113号'],\n",
              " '中南锦城': ['生态文旅区', '生态新城翔宇大道100号'],\n",
              " '中天清江诚品': ['清江浦', '解放西路214号'],\n",
              " '中奥天樾府': ['淮安', '沈坤路与山阳大道交汇处'],\n",
              " '中海·九樾': ['淮安', '翔宇大道与经五路交界向北500米路东'],\n",
              " '中环时代': ['开发区', '迎宾大道北侧', '鸿海北路西侧'],\n",
              " '九里颐荷府': ['淮阴', '北京西路与鞠通路交汇处'],\n",
              " '云河湾': ['淮安', '淮安区翔宇大道与经二路交汇处'],\n",
              " '京师学院里': ['开发区', '枚乘路与学院路交汇处'],\n",
              " '保利国联和府': ['清江浦', '承德北路与大同路交汇处'],\n",
              " '保利国联里院': ['清江浦', '延安东路与航运路交汇处'],\n",
              " '保利通银·时光印象': ['清江浦', '延安西路与港口路交汇处'],\n",
              " '兴安华庭': ['生态文旅区', '凤里路东侧、福地路南侧'],\n",
              " '华信·花漾城IHC': ['清江浦', '师专路一号'],\n",
              " '叶语书院': ['清江浦', '珠海东路205号'],\n",
              " '吾悦·悦龙湾': ['涟水', '龙腾大道与涟水路交汇处'],\n",
              " '嘉润鸿锦苑': ['涟水', '炎黄大道与深圳路交叉口东南'],\n",
              " '城置·公园龙湾': ['开发区', '天津路88号'],\n",
              " '天润和府': ['清河', '淮海南路288号'],\n",
              " '天瑞府': ['淮阴', '承德北路与香江路交汇处'],\n",
              " '天生赢家': ['开发区', '淮安市开发区富誉路8号'],\n",
              " '天禧时代花园': ['清江浦', '北京南路与柯山路交汇处'],\n",
              " '学府名门': ['开发区', '柯山路南侧、学府路东侧'],\n",
              " '宁淮阅苑': ['清江浦', '北京南路199号'],\n",
              " '宏元国际广场': ['清江浦', '淮海东路9号'],\n",
              " '富升园': ['淮安', '城西干道与公园路交汇处'],\n",
              " '尚都汇': ['淮阴', '淮海北路666号（淮海北路和香江路交汇处））'],\n",
              " '山水文院': ['开发区', '天津路与枚皋路交汇处'],\n",
              " '广城尚书房': ['淮阴', '长江西路北侧', '淮州路东侧'],\n",
              " '康馨学府': ['涟水', '涟水县缘分大道与银杏路交汇处'],\n",
              " '建华观园六期': ['生态文旅区', '生态新城', '森林公园北侧'],\n",
              " '建发|水利 天玺湾雅苑': ['生态文旅区', '淮安市生态新城沁春路与山阳湾路交汇处'],\n",
              " '成贤府': ['淮阴', '长征路北侧、东郊医院东侧'],\n",
              " '报业新城二期天境': ['清江浦', '柯山路与勤政路交汇处'],\n",
              " '文景学府': ['淮阴', '江苏省淮安市淮阴区王家营街道鞠通路'],\n",
              " '文锦城4期·天玺府': ['淮安', '山阳大道与梁红玉路交汇处'],\n",
              " '新城·悦隽风华': ['金湖', '金湖县人民路199号（政务中心东侧）'],\n",
              " '新城清河印花园': ['清江浦', '淮海西路与清河路交叉口西南侧'],\n",
              " '新城睿园': ['生态文旅区', '新淮高级中学西侧，万康路于万福路交汇处'],\n",
              " '新玖城君悦澜湾': ['开发区', '迎宾大道南侧、鸿海路东侧'],\n",
              " '时光铂悦': ['淮阴', '黄河西路北侧、星光路西侧'],\n",
              " '旺江壹品': ['开发区', '开发区明远路与通甫路交界口'],\n",
              " '旺达玺悦': ['淮阴', '淮阴区香港路火车道向北3公里'],\n",
              " '明发星悦城': ['开发区', '深圳路与广州路交汇处'],\n",
              " '春风南岸': ['淮阴', '城中花园东侧项目地块'],\n",
              " '曼度广场': ['淮阴', '淮海北路668号'],\n",
              " '朗诗·宝景时光里': ['清江浦', '北京南路与解放西路交叉口'],\n",
              " '格林世界': ['清江浦', '枚皋路与勤政路交汇处'],\n",
              " '梁呈美景': ['涟水', '淮安市涟水县炎黄大道与盐河路交汇处（陶码大桥西）'],\n",
              " '楚州府': ['淮安', '沈坤路红军小学北侧'],\n",
              " '水沐云顶': ['清江浦', '政通路与枚皋路交汇处'],\n",
              " '水沐和禧园': ['清江浦', '天津路与延安路交汇处'],\n",
              " '水沐明悦府': ['清浦', '淮安市清江浦区北京南路东侧,', '枚乘路北侧'],\n",
              " '水沐未来城': ['清江浦', '勤政路与光辉路交汇处'],\n",
              " '水沐清华·紫光园': ['清江浦', '枚皋路与长阳路交汇处'],\n",
              " '水沐钟秀府': ['清江浦', '新民东路北侧、淮十二路西侧'],\n",
              " '水沐韶华': ['开发区', '明远路与合意路交汇处'],\n",
              " '永业梦乐城': ['清江浦', '清江浦区淮海南路与枚乘路交汇处'],\n",
              " '河畔花城': ['开发区', '解放东路111号'],\n",
              " '泓著大观': ['生态文旅区', '乐善路西侧、顺宁路南侧'],\n",
              " '法兰郡': ['清江浦', '北京南路与枚乘路交汇处'],\n",
              " '泽信·银城·云樾天著': ['清江浦', '解放西路与北京南路交汇处向西约150米'],\n",
              " '浩源·尚城': ['清江浦', '淮安市清河新区水渡口大道121号'],\n",
              " '海尚风华': ['清江浦', '淮海南路与枚皋路交汇处'],\n",
              " '涟水·弘辉首馥': ['涟水', '涟水县清水路与缘分大道交汇处（涟水县滨河学校斜对面）'],\n",
              " '涟水吾悦广场': ['涟水', '红日大道与南京路交口（县人民医院东500米路南）'],\n",
              " '淮上景明': ['清江浦', '承德北路与大同路交汇处'],\n",
              " '淮安宝龙天地2期': ['清江浦', '江苏省淮安市清江浦区清河街道白鹭湖大街'],\n",
              " '淮安宝龙天地三 · 四期': ['清江浦', '江苏省淮安市清江浦区清河街道广州路淮安宝龙天地爱情小镇'],\n",
              " '淮安富康城': ['淮阴', '长江西路与西安北路交汇处'],\n",
              " '淮安市新璀璨房地产有限公司': ['生态文旅区', '生态文旅区福地路南侧、丹山路东侧'],\n",
              " '淮安旭辉广场': ['开发区', '安澜北路与富准路交叉口'],\n",
              " '淮安红星国际广场': ['清江浦', '淮海南路156号'],\n",
              " '淮安置地广场·悦玺台': ['开发区', '淮安市开发区柯山路与通甫路交汇处'],\n",
              " '淮安金融中心': ['清江浦', '水渡口大道（万达向东300米）'],\n",
              " '淮安金辉优步花园': ['淮阴', '淮海北路与九江路交汇处东150米'],\n",
              " '淮府': ['清江浦', '清江浦区枚乘路与启秀路交汇处'],\n",
              " '淮海天宸': ['清江浦', '清江浦区淮海西路200号'],\n",
              " '淮海青年城': ['开发区', '韩泰路和汕头路交汇处'],\n",
              " '港龙·东望府': ['淮安', '铁云路与山阳大道交汇处'],\n",
              " '潮都望庄': ['清江浦', '武黄路26号'],\n",
              " '烨宸广场': ['清河', '淮海南路139号'],\n",
              " '瑞鑫悦荣府': ['清浦', '清江浦区启秀路东侧、沿河路南侧'],\n",
              " '盛世名门': ['清江浦', '解放东路和天津路交叉口'],\n",
              " '盱眙新城吾悦广场': ['盱眙', '新海大道2号'],\n",
              " '石榴·淮上院子': ['淮阴', '樱花路南侧', '合肥路西侧'],\n",
              " '石榴·玉蘭灣': ['淮安', '淮安区翔宇大道与233国道交汇处'],\n",
              " '碧桂园·桃李风华': ['淮阴', '翔宇北道与九江路交汇处'],\n",
              " '碧桂园·楚州印': ['淮安', '吴鞠通路与山阳大道交汇处'],\n",
              " '红豆国际城': ['开发区', '红豆路1号'],\n",
              " '绿地九里香颂': ['清江浦', '水渡口大道128号'],\n",
              " '绿地春晓': ['开发区', '正大路与通甫路交汇处（天津路小学东侧）'],\n",
              " '绿城服务·阳光新城': ['淮阴', '宁连路与黄河东路交汇处（东南角）'],\n",
              " '蓝城安澜•桃李春风': ['洪泽', '蒋坝镇彭祖大道南侧、经二路西侧'],\n",
              " '蓝惠新街': ['淮安', '翔宇南道803号'],\n",
              " '融侨悦城': ['清江浦', '福州路55号'],\n",
              " '融创·运河望': ['淮安', '山阳大道与沈坤路交汇处'],\n",
              " '融创广场': ['清江浦', '天津路西侧，延安东路南侧'],\n",
              " '融尚嘉玺广场': ['清江浦', '淮海西路与北京路交汇处'],\n",
              " '观淮府': ['淮阴', '银川路与九江路交汇处（区政府北约200米）'],\n",
              " '金凤梧桐华苑': ['清河', '延安西路7号'],\n",
              " '金樾府': ['清江浦', '工农路与丰登路交汇处'],\n",
              " '金润城御园': ['淮阴', '北京东路北侧、金碧湖畔小区东侧'],\n",
              " '金科&金地商置·观天下': ['清江浦', '延安路与石桥路交汇处'],\n",
              " '金色阳光': ['开发区', '天津路与正大路交汇处'],\n",
              " '金辉·世界城': ['淮阴', '淮河路北侧、北京北路西侧'],\n",
              " '金辉·优步东郡': ['开发区', '淮安市经济技术开发区徐杨老街与咏贤路交汇处'],\n",
              " '金辉城·清江府': ['清江浦', '清河新区古河口大街88号（曦园街与河畔路交汇）'],\n",
              " '金辉城市广场': ['淮阴', '淮河东路北侧、翔宇北道东侧'],\n",
              " '金鼎国际花园': ['淮阴', '长江西路与西安北路交汇处（王营镇镇政府对面）'],\n",
              " '银蕨广场': ['淮阴', '长征路北侧', '双和路西侧'],\n",
              " '长岛一墅': ['清江浦', '古淮河公园（河畔路28号）'],\n",
              " '雅居乐 中匠·南门府': ['清江浦', '淮安市清江浦区解放西路100号（市妇幼保健院南侧）'],\n",
              " '雅居乐·富春山居': ['开发区', '迎宾大道南侧', '韩泰路东侧'],\n",
              " '香溢茗园': ['清江浦', '水渡口与曦园街交叉口'],\n",
              " '香缇豪庭': ['开发区', '海口路7号'],\n",
              " '鼎立紫金花苑': ['开发区', '富誉路8号']}"
            ]
          },
          "metadata": {},
          "execution_count": 5
        }
      ]
    },
    {
      "cell_type": "code",
      "source": [
        "new_loupan_dict['水沐钟秀府']"
      ],
      "metadata": {
        "colab": {
          "base_uri": "https://localhost:8080/"
        },
        "id": "Tx4q1CGasS07",
        "outputId": "da40e6a1-cf4e-4968-c961-f62eff562dd0"
      },
      "execution_count": null,
      "outputs": [
        {
          "output_type": "execute_result",
          "data": {
            "text/plain": [
              "['清江浦', '新民东路北侧、淮十二路西侧']"
            ]
          },
          "metadata": {},
          "execution_count": 6
        }
      ]
    },
    {
      "cell_type": "code",
      "source": [
        "import json\n",
        "with open('/content/drive/My Drive/work/重复线索识别/新楼盘.json', 'w', encoding='utf-8') as fp:\n",
        "    json.dump(new_loupan_dict, fp, ensure_ascii=False, indent=4)"
      ],
      "metadata": {
        "id": "KDafn5qW7Z7c"
      },
      "execution_count": null,
      "outputs": []
    },
    {
      "cell_type": "markdown",
      "source": [
        "# 旧楼盘"
      ],
      "metadata": {
        "id": "kRkV1cW29wQu"
      }
    },
    {
      "cell_type": "code",
      "source": [
        "import requests\n",
        "from fake_useragent import UserAgent\n",
        "from bs4 import BeautifulSoup\n",
        "import re\n",
        "\n",
        "#headers = {'user-agent': str(UserAgent(verify_ssl=False).random)}\n",
        "headers = {'user-agent': str(UserAgent(verify_ssl=False))}\n",
        "\n",
        "old_loupan_list = []\n",
        "for page in range(1, 31):\n",
        "  response = requests.get(f'https://ha.lianjia.com/xiaoqu/pg{page}', headers=headers)\n",
        "  response.encoding = 'utf-8'\n",
        "  soup = BeautifulSoup(response.text)\n",
        "\n",
        "  divTags = soup.find_all('div', class_='title')\n",
        "  for tag in divTags:\n",
        "    try:\n",
        "      lp_name = tag.find('a').text\n",
        "      if lp_name != '去登录':\n",
        "        old_loupan_list.append()\n",
        "    except:\n",
        "      pass"
      ],
      "metadata": {
        "id": "VipVjnUYyG1n"
      },
      "execution_count": null,
      "outputs": []
    },
    {
      "cell_type": "code",
      "source": [
        "old_loupan_list"
      ],
      "metadata": {
        "colab": {
          "base_uri": "https://localhost:8080/"
        },
        "id": "1sbXvCEh5cbH",
        "outputId": "be1add26-bcf9-4eeb-ea3e-c4245fde4c3a"
      },
      "execution_count": null,
      "outputs": [
        {
          "output_type": "execute_result",
          "data": {
            "text/plain": [
              "[]"
            ]
          },
          "metadata": {},
          "execution_count": 9
        }
      ]
    },
    {
      "cell_type": "code",
      "source": [
        "with open('/content/drive/My Drive/work/重复线索识别/旧楼盘.txt', 'w') as f:\n",
        "    for item in old_loupan_list:\n",
        "        f.write(\"%s\\n\" % item)"
      ],
      "metadata": {
        "id": "OdTUHC545niX"
      },
      "execution_count": null,
      "outputs": []
    },
    {
      "cell_type": "code",
      "source": [
        "for i in range(123,1,-1):\n",
        "  print(i)"
      ],
      "metadata": {
        "id": "0W57VxnJUnE9"
      },
      "execution_count": null,
      "outputs": []
    },
    {
      "cell_type": "code",
      "source": [
        "import requests\n",
        "from fake_useragent import UserAgent\n",
        "from bs4 import BeautifulSoup\n",
        "import re\n",
        "from tqdm.auto import tqdm\n",
        "\n",
        "headers = {'user-agent': str(UserAgent(verify_ssl=False).random)}\n",
        "\n",
        "old_loupan_dict = {}\n",
        "for page in tqdm(range(122, 1, -1)):\n",
        "  response = requests.get(f'http://huaian.jiwu.com/loupan/esf/list-page{page}.html', headers=headers)\n",
        "  response.encoding = 'utf-8'\n",
        "  soup = BeautifulSoup(response.text)\n",
        "  divTags = soup.find_all('div', class_='text')\n",
        "  for tag in divTags:\n",
        "    try:\n",
        "      tit_divTags = tag.find('div', class_='tit').findChild('a').text\n",
        "      name_divTags = tag.find('div', class_='name').find_all('span')[-1].text\n",
        "      old_loupan_dict[tit_divTags] = name_divTags\n",
        "    except:\n",
        "      pass"
      ],
      "metadata": {
        "id": "ewT-HDCi57sS"
      },
      "execution_count": null,
      "outputs": []
    },
    {
      "cell_type": "code",
      "source": [
        "old_loupan_dict = {}"
      ],
      "metadata": {
        "id": "V3ZnpXCbVKBJ"
      },
      "execution_count": null,
      "outputs": []
    },
    {
      "cell_type": "code",
      "source": [
        "for page in tqdm(range(110, 123)):\n",
        "  response = requests.get(f'http://huaian.jiwu.com/loupan/esf/list-page{page}.html', headers=headers)\n",
        "  response.encoding = 'utf-8'\n",
        "  soup = BeautifulSoup(response.text)\n",
        "  divTags = soup.find_all('div', class_='text')\n",
        "  for tag in divTags:\n",
        "    try:\n",
        "      tit_divTags = tag.find('div', class_='tit').findChild('a').text\n",
        "      name_divTags = tag.find('div', class_='name').find_all('span')[-1].text\n",
        "      old_loupan_dict[tit_divTags] = name_divTags\n",
        "    except:\n",
        "      pass"
      ],
      "metadata": {
        "colab": {
          "base_uri": "https://localhost:8080/",
          "height": 49,
          "referenced_widgets": [
            "d741fa767d454a7c90735e6e02c5e9cb",
            "c3d6747bbef2496aacf308680f030a28",
            "275bb5a6bf894683aaefdd30e5c47189",
            "42c505c6d056401886e81f0372b5ff49",
            "941088c4fbff4bf9976b5b1b7ef32d4d",
            "ab52f9c46a014862840c8aeaa1cedec3",
            "b06288da6e1c4448a5fe23994cf65805",
            "5e1a2c65da734d1398155966d157dc5a",
            "9582f83cff78422b8a755c2200da1e9b",
            "7872741f35c1438b88c5e705c8d9ae17",
            "ad7cf1745ff94d77a6b5cd3890450493"
          ]
        },
        "id": "BlDNBkm_J9CN",
        "outputId": "9897cf02-3dc4-48ac-83f2-65230726bf23"
      },
      "execution_count": null,
      "outputs": [
        {
          "output_type": "display_data",
          "data": {
            "text/plain": [
              "  0%|          | 0/13 [00:00<?, ?it/s]"
            ],
            "application/vnd.jupyter.widget-view+json": {
              "version_major": 2,
              "version_minor": 0,
              "model_id": "d741fa767d454a7c90735e6e02c5e9cb"
            }
          },
          "metadata": {}
        }
      ]
    },
    {
      "cell_type": "code",
      "source": [
        "'水沐楼台' in old_loupan_dict.keys()"
      ],
      "metadata": {
        "colab": {
          "base_uri": "https://localhost:8080/"
        },
        "id": "hkYNetBcVVWK",
        "outputId": "755173ec-84bc-4339-b583-c09e35075fc8"
      },
      "execution_count": null,
      "outputs": [
        {
          "output_type": "execute_result",
          "data": {
            "text/plain": [
              "True"
            ]
          },
          "metadata": {},
          "execution_count": 60
        }
      ]
    },
    {
      "cell_type": "code",
      "source": [
        "import json\n",
        "with open('/content/drive/My Drive/work/重复线索识别/旧楼盘.json', 'w', encoding='utf-8') as fp:\n",
        "    json.dump(old_loupan_dict, fp, ensure_ascii=False, indent=4)"
      ],
      "metadata": {
        "id": "IXB1Ami9KZ0i"
      },
      "execution_count": null,
      "outputs": []
    }
  ]
}