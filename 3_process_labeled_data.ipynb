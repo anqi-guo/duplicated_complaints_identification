{
  "nbformat": 4,
  "nbformat_minor": 0,
  "metadata": {
    "colab": {
      "name": "3. process_labeled_data.ipynb",
      "provenance": [],
      "authorship_tag": "ABX9TyMxSHkbKgPNmImyNsl1zqOn",
      "include_colab_link": true
    },
    "kernelspec": {
      "name": "python3",
      "display_name": "Python 3"
    },
    "language_info": {
      "name": "python"
    }
  },
  "cells": [
    {
      "cell_type": "markdown",
      "metadata": {
        "id": "view-in-github",
        "colab_type": "text"
      },
      "source": [
        "<a href=\"https://colab.research.google.com/github/anqi-guo/duplicated_complaints_identification/blob/main/3_process_labeled_data.ipynb\" target=\"_parent\"><img src=\"https://colab.research.google.com/assets/colab-badge.svg\" alt=\"Open In Colab\"/></a>"
      ]
    },
    {
      "cell_type": "code",
      "source": [
        "from google.colab import drive\n",
        "drive.mount('/content/drive')\n",
        "\n",
        "import pandas as pd\n",
        "import os\n",
        "\n",
        "data_path = '/content/drive/My Drive/work/重复线索识别/data'"
      ],
      "metadata": {
        "id": "5ng4HVZF7Pte"
      },
      "execution_count": null,
      "outputs": []
    },
    {
      "cell_type": "markdown",
      "source": [
        "# read data -> option 1"
      ],
      "metadata": {
        "id": "Mt3c4ujn7TSN"
      }
    },
    {
      "cell_type": "code",
      "execution_count": 19,
      "metadata": {
        "id": "yhwRfWfHiDV6",
        "colab": {
          "base_uri": "https://localhost:8080/"
        },
        "outputId": "84ea210c-4ea8-4b3f-e472-05e00e912897"
      },
      "outputs": [
        {
          "output_type": "execute_result",
          "data": {
            "text/plain": [
              "(11377, 3)"
            ]
          },
          "metadata": {},
          "execution_count": 19
        }
      ],
      "source": [
        "# 人工标注的样本\n",
        "df_list = []\n",
        "for file in os.listdir(f'{data_path}/labeled_data/xlsx'):\n",
        "  dff = pd.read_excel(f'{data_path}/labeled_data/xlsx/{file}')\n",
        "  dff.columns = ['label', 'sentence1', 'sentence2']\n",
        "  df_list.append(dff)\n",
        "\n",
        "# 模型预测错误的样本\n",
        "df_ = pd.read_excel(f'{data_path}/model_outputs/similar_sentence_pairs.xlsx', usecols=[0,1,2], header=None)\n",
        "df_.columns = ['label', 'sentence1', 'sentence2']\n",
        "df_ = df_[df_['label'].isin([0,1])]\n",
        "df_list.append(df_)\n",
        "\n",
        "# 合并\n",
        "df = pd.concat(df_list)\n",
        "\n",
        "# 删掉包含一下文字的\n",
        "df = df[~((df['sentence1'].str.contains('前期工单|原工单|已有工单|前单号'))|(df['sentence2'].str.contains('前期工单|原工单|已有工单|前单号')))]\n",
        "\n",
        "df.shape"
      ]
    },
    {
      "cell_type": "markdown",
      "source": [
        "# read data -> option 2"
      ],
      "metadata": {
        "id": "pQK1XGmr7dq5"
      }
    },
    {
      "cell_type": "code",
      "source": [
        "# 之前已经整理好的数据\n",
        "df = pd.read_excel(f'{data_path}/labeled_data/final_data.xlsx')\n",
        "\n",
        "# 模型预测错误的样本\n",
        "df_ = pd.read_excel(f'{data_path}/model_outputs/similar_sentence_pairs.xlsx', usecols=[0,1,2], header=None)\n",
        "df_.columns = ['label', 'sentence1', 'sentence2']\n",
        "df_ = df_[df_['label'].isin([0,1])]\n",
        "\n",
        "df = df.append(df_)"
      ],
      "metadata": {
        "id": "ygoO6Q6t7HRI"
      },
      "execution_count": null,
      "outputs": []
    },
    {
      "cell_type": "markdown",
      "source": [
        "# delete duplicated sentence pairs"
      ],
      "metadata": {
        "id": "JuIfgqAq8Gzd"
      }
    },
    {
      "cell_type": "code",
      "source": [
        "# 删掉重复句子对\n",
        "def sort_list(sent1, sent2):\n",
        "  sents_list = list(sent1) + list(sent2)\n",
        "  sents_list.sort()\n",
        "  return ''.join(sents_list)\n",
        "\n",
        "df['word_list'] = df.apply(lambda row: sort_list(row['sentence1'],row['sentence2']), axis=1)\n",
        "\n",
        "df.drop_duplicates(subset=['word_list'], keep='first', inplace=True)\n",
        "\n",
        "df.shape"
      ],
      "metadata": {
        "id": "WmtVGfyyjzfl",
        "colab": {
          "base_uri": "https://localhost:8080/"
        },
        "outputId": "86451a91-a5da-40ac-ef37-44bc84d5d5e9"
      },
      "execution_count": 16,
      "outputs": [
        {
          "output_type": "execute_result",
          "data": {
            "text/plain": [
              "(10995, 4)"
            ]
          },
          "metadata": {},
          "execution_count": 16
        }
      ]
    },
    {
      "cell_type": "markdown",
      "source": [
        "# extract key sentence"
      ],
      "metadata": {
        "id": "Yyxii1Yi8LN_"
      }
    },
    {
      "cell_type": "code",
      "source": [
        "import regex as re\n",
        "import jieba\n",
        "from tqdm.auto import tqdm\n",
        "tqdm.pandas()\n",
        "\n",
        "def extract_problem(text):\n",
        "  # 删掉标点符号\n",
        "  text = re.sub(r'\\p{P}+', '', text) \n",
        "  # 删掉空格、换行符、信息保密、信息不保密、距离、时间、数字、投诉人信息\n",
        "  text = re.sub(r'(\\s|\\n|信息[不]?保密|\\d+[m米年月日]?|(.{1}先生|.{1}女士|市民)(来电)?反映)', '', text) \n",
        "\n",
        "  if '问题描述' in text and '诉求目的' in text:\n",
        "    text = re.search(r'(?<=问题描述).*(?=诉求目的)', text).group()\n",
        "\n",
        "  # 删掉停用词\n",
        "  with open(f'{data_path}/stopwords/cn_stopwords.txt') as f:\n",
        "    stopwords = f.read().splitlines() \n",
        "\n",
        "  seg_list = jieba.cut(text)\n",
        "\n",
        "  result = ''.join([s for s in seg_list if s not in stopwords])\n",
        "  return result\n",
        "\n",
        "df['sentence1'] = df['sentence1'].progress_apply(extract_problem)\n",
        "df['sentence2'] = df['sentence2'].progress_apply(extract_problem)"
      ],
      "metadata": {
        "id": "F4oPQTxYj1TV"
      },
      "execution_count": 20,
      "outputs": []
    },
    {
      "cell_type": "markdown",
      "source": [
        "# save file"
      ],
      "metadata": {
        "id": "evpjJnNq8OyF"
      }
    },
    {
      "cell_type": "code",
      "source": [
        "df.to_excel(f'{data_path}/labeled_data/final_data.xlsx', index=False)"
      ],
      "metadata": {
        "id": "-tTTba9XjD7t"
      },
      "execution_count": 21,
      "outputs": []
    }
  ]
}