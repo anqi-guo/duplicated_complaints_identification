{
  "nbformat": 4,
  "nbformat_minor": 0,
  "metadata": {
    "colab": {
      "name": "3. process_labeled_data.ipynb",
      "provenance": [],
      "authorship_tag": "ABX9TyM41fPKA1u5EDvFtvRdRUsb",
      "include_colab_link": true
    },
    "kernelspec": {
      "name": "python3",
      "display_name": "Python 3"
    },
    "language_info": {
      "name": "python"
    }
  },
  "cells": [
    {
      "cell_type": "markdown",
      "metadata": {
        "id": "view-in-github",
        "colab_type": "text"
      },
      "source": [
        "<a href=\"https://colab.research.google.com/github/anqi-guo/duplicated_complaints_identification/blob/main/3_process_labeled_data.ipynb\" target=\"_parent\"><img src=\"https://colab.research.google.com/assets/colab-badge.svg\" alt=\"Open In Colab\"/></a>"
      ]
    },
    {
      "cell_type": "code",
      "execution_count": 3,
      "metadata": {
        "id": "yhwRfWfHiDV6",
        "colab": {
          "base_uri": "https://localhost:8080/",
          "height": 221
        },
        "outputId": "7fa212f7-889b-464b-c531-49c0ee65f2ca"
      },
      "outputs": [
        {
          "output_type": "stream",
          "name": "stdout",
          "text": [
            "Drive already mounted at /content/drive; to attempt to forcibly remount, call drive.mount(\"/content/drive\", force_remount=True).\n"
          ]
        },
        {
          "output_type": "execute_result",
          "data": {
            "text/plain": [
              "   label                      sentence1                         sentence2\n",
              "0    0.0   朝阳路与西安南路叉口向东关城小区拖运渣土污染末清理，冲洗     朝阳路与西安路交叉口东200m关城花苑大面积黄土裸露未覆盖\n",
              "1    0.0   朝阳路与西安南路叉口向东关城小区拖运渣土污染末清理，冲洗  西安南路与朝阳路交叉口西南100m关城花苑大面积黄土裸露未覆盖。\n",
              "2    0.0   朝阳路与西安南路叉口向东关城小区拖运渣土污染末清理，冲洗    朝阳路与西安路交叉口东300米 关城花苑大面积黄土裸露未覆盖\n",
              "3    1.0  朝阳路与西安路交叉口东200m关城花苑大面积黄土裸露未覆盖  西安南路与朝阳路交叉口西南100m关城花苑大面积黄土裸露未覆盖。\n",
              "4    0.0  朝阳路与西安路交叉口东200m关城花苑大面积黄土裸露未覆盖      西安高架与枚皋路交叉口东南侧关城花苑黄土露天堆放未覆盖。"
            ],
            "text/html": [
              "\n",
              "  <div id=\"df-ee8c0b31-136b-406b-acee-5c1914f5242a\">\n",
              "    <div class=\"colab-df-container\">\n",
              "      <div>\n",
              "<style scoped>\n",
              "    .dataframe tbody tr th:only-of-type {\n",
              "        vertical-align: middle;\n",
              "    }\n",
              "\n",
              "    .dataframe tbody tr th {\n",
              "        vertical-align: top;\n",
              "    }\n",
              "\n",
              "    .dataframe thead th {\n",
              "        text-align: right;\n",
              "    }\n",
              "</style>\n",
              "<table border=\"1\" class=\"dataframe\">\n",
              "  <thead>\n",
              "    <tr style=\"text-align: right;\">\n",
              "      <th></th>\n",
              "      <th>label</th>\n",
              "      <th>sentence1</th>\n",
              "      <th>sentence2</th>\n",
              "    </tr>\n",
              "  </thead>\n",
              "  <tbody>\n",
              "    <tr>\n",
              "      <th>0</th>\n",
              "      <td>0.0</td>\n",
              "      <td>朝阳路与西安南路叉口向东关城小区拖运渣土污染末清理，冲洗</td>\n",
              "      <td>朝阳路与西安路交叉口东200m关城花苑大面积黄土裸露未覆盖</td>\n",
              "    </tr>\n",
              "    <tr>\n",
              "      <th>1</th>\n",
              "      <td>0.0</td>\n",
              "      <td>朝阳路与西安南路叉口向东关城小区拖运渣土污染末清理，冲洗</td>\n",
              "      <td>西安南路与朝阳路交叉口西南100m关城花苑大面积黄土裸露未覆盖。</td>\n",
              "    </tr>\n",
              "    <tr>\n",
              "      <th>2</th>\n",
              "      <td>0.0</td>\n",
              "      <td>朝阳路与西安南路叉口向东关城小区拖运渣土污染末清理，冲洗</td>\n",
              "      <td>朝阳路与西安路交叉口东300米 关城花苑大面积黄土裸露未覆盖</td>\n",
              "    </tr>\n",
              "    <tr>\n",
              "      <th>3</th>\n",
              "      <td>1.0</td>\n",
              "      <td>朝阳路与西安路交叉口东200m关城花苑大面积黄土裸露未覆盖</td>\n",
              "      <td>西安南路与朝阳路交叉口西南100m关城花苑大面积黄土裸露未覆盖。</td>\n",
              "    </tr>\n",
              "    <tr>\n",
              "      <th>4</th>\n",
              "      <td>0.0</td>\n",
              "      <td>朝阳路与西安路交叉口东200m关城花苑大面积黄土裸露未覆盖</td>\n",
              "      <td>西安高架与枚皋路交叉口东南侧关城花苑黄土露天堆放未覆盖。</td>\n",
              "    </tr>\n",
              "  </tbody>\n",
              "</table>\n",
              "</div>\n",
              "      <button class=\"colab-df-convert\" onclick=\"convertToInteractive('df-ee8c0b31-136b-406b-acee-5c1914f5242a')\"\n",
              "              title=\"Convert this dataframe to an interactive table.\"\n",
              "              style=\"display:none;\">\n",
              "        \n",
              "  <svg xmlns=\"http://www.w3.org/2000/svg\" height=\"24px\"viewBox=\"0 0 24 24\"\n",
              "       width=\"24px\">\n",
              "    <path d=\"M0 0h24v24H0V0z\" fill=\"none\"/>\n",
              "    <path d=\"M18.56 5.44l.94 2.06.94-2.06 2.06-.94-2.06-.94-.94-2.06-.94 2.06-2.06.94zm-11 1L8.5 8.5l.94-2.06 2.06-.94-2.06-.94L8.5 2.5l-.94 2.06-2.06.94zm10 10l.94 2.06.94-2.06 2.06-.94-2.06-.94-.94-2.06-.94 2.06-2.06.94z\"/><path d=\"M17.41 7.96l-1.37-1.37c-.4-.4-.92-.59-1.43-.59-.52 0-1.04.2-1.43.59L10.3 9.45l-7.72 7.72c-.78.78-.78 2.05 0 2.83L4 21.41c.39.39.9.59 1.41.59.51 0 1.02-.2 1.41-.59l7.78-7.78 2.81-2.81c.8-.78.8-2.07 0-2.86zM5.41 20L4 18.59l7.72-7.72 1.47 1.35L5.41 20z\"/>\n",
              "  </svg>\n",
              "      </button>\n",
              "      \n",
              "  <style>\n",
              "    .colab-df-container {\n",
              "      display:flex;\n",
              "      flex-wrap:wrap;\n",
              "      gap: 12px;\n",
              "    }\n",
              "\n",
              "    .colab-df-convert {\n",
              "      background-color: #E8F0FE;\n",
              "      border: none;\n",
              "      border-radius: 50%;\n",
              "      cursor: pointer;\n",
              "      display: none;\n",
              "      fill: #1967D2;\n",
              "      height: 32px;\n",
              "      padding: 0 0 0 0;\n",
              "      width: 32px;\n",
              "    }\n",
              "\n",
              "    .colab-df-convert:hover {\n",
              "      background-color: #E2EBFA;\n",
              "      box-shadow: 0px 1px 2px rgba(60, 64, 67, 0.3), 0px 1px 3px 1px rgba(60, 64, 67, 0.15);\n",
              "      fill: #174EA6;\n",
              "    }\n",
              "\n",
              "    [theme=dark] .colab-df-convert {\n",
              "      background-color: #3B4455;\n",
              "      fill: #D2E3FC;\n",
              "    }\n",
              "\n",
              "    [theme=dark] .colab-df-convert:hover {\n",
              "      background-color: #434B5C;\n",
              "      box-shadow: 0px 1px 3px 1px rgba(0, 0, 0, 0.15);\n",
              "      filter: drop-shadow(0px 1px 2px rgba(0, 0, 0, 0.3));\n",
              "      fill: #FFFFFF;\n",
              "    }\n",
              "  </style>\n",
              "\n",
              "      <script>\n",
              "        const buttonEl =\n",
              "          document.querySelector('#df-ee8c0b31-136b-406b-acee-5c1914f5242a button.colab-df-convert');\n",
              "        buttonEl.style.display =\n",
              "          google.colab.kernel.accessAllowed ? 'block' : 'none';\n",
              "\n",
              "        async function convertToInteractive(key) {\n",
              "          const element = document.querySelector('#df-ee8c0b31-136b-406b-acee-5c1914f5242a');\n",
              "          const dataTable =\n",
              "            await google.colab.kernel.invokeFunction('convertToInteractive',\n",
              "                                                     [key], {});\n",
              "          if (!dataTable) return;\n",
              "\n",
              "          const docLinkHtml = 'Like what you see? Visit the ' +\n",
              "            '<a target=\"_blank\" href=https://colab.research.google.com/notebooks/data_table.ipynb>data table notebook</a>'\n",
              "            + ' to learn more about interactive tables.';\n",
              "          element.innerHTML = '';\n",
              "          dataTable['output_type'] = 'display_data';\n",
              "          await google.colab.output.renderOutput(dataTable, element);\n",
              "          const docLink = document.createElement('div');\n",
              "          docLink.innerHTML = docLinkHtml;\n",
              "          element.appendChild(docLink);\n",
              "        }\n",
              "      </script>\n",
              "    </div>\n",
              "  </div>\n",
              "  "
            ]
          },
          "metadata": {},
          "execution_count": 3
        }
      ],
      "source": [
        "from google.colab import drive\n",
        "drive.mount('/content/drive')\n",
        "\n",
        "import pandas as pd\n",
        "import os\n",
        "\n",
        "data_path = '/content/drive/My Drive/work/重复线索识别/data'\n",
        "\n",
        "# 人工标注的样本\n",
        "df_list = []\n",
        "for file in os.listdir(f'{data_path}/labeled_data/xlsx'):\n",
        "  dff = pd.read_excel(f'{data_path}/labeled_data/xlsx/{file}')\n",
        "  dff.columns = ['label', 'sentence1', 'sentence2']\n",
        "  df_list.append(dff)\n",
        "\n",
        "# 模型预测为正，实际为负的样本\n",
        "df_ = pd.read_excel(f'{data_path}/model_outputs/similar_sentence_pairs.xlsx', usecols=[1,2,3])\n",
        "df_.columns = ['label', 'sentence1', 'sentence2']\n",
        "df_ = df_[df_['label']==0]\n",
        "df_list.append(df_)\n",
        "\n",
        "# 合并\n",
        "df = pd.concat(df_list)\n",
        "df.head()"
      ]
    },
    {
      "cell_type": "code",
      "source": [
        "df = df[~((df['sentence1'].str.contains('前期工单|原工单|已有工单|前单号'))|(df['sentence2'].str.contains('前期工单|原工单|已有工单|前单号')))]\n",
        "df.shape"
      ],
      "metadata": {
        "id": "RgJcW7k6ju3u",
        "colab": {
          "base_uri": "https://localhost:8080/"
        },
        "outputId": "a5dae72b-bd9e-4050-906f-63f2d4b1179c"
      },
      "execution_count": 4,
      "outputs": [
        {
          "output_type": "execute_result",
          "data": {
            "text/plain": [
              "(11068, 3)"
            ]
          },
          "metadata": {},
          "execution_count": 4
        }
      ]
    },
    {
      "cell_type": "code",
      "source": [
        "# 删掉重复句子对\n",
        "def sort_list(sent1, sent2):\n",
        "  sents_list = list(sent1) + list(sent2)\n",
        "  sents_list.sort()\n",
        "  return ''.join(sents_list)\n",
        "\n",
        "df['word_list'] = df.apply(lambda row: sort_list(row['sentence1'],row['sentence2']), axis=1)\n",
        "\n",
        "df.drop_duplicates(subset=['word_list'], keep='first', inplace=True)\n",
        "\n",
        "df.shape"
      ],
      "metadata": {
        "id": "WmtVGfyyjzfl",
        "colab": {
          "base_uri": "https://localhost:8080/"
        },
        "outputId": "f0ef6f01-f053-4352-afb4-461df45867b3"
      },
      "execution_count": 5,
      "outputs": [
        {
          "output_type": "execute_result",
          "data": {
            "text/plain": [
              "(10688, 4)"
            ]
          },
          "metadata": {},
          "execution_count": 5
        }
      ]
    },
    {
      "cell_type": "code",
      "source": [
        "import regex as re\n",
        "import jieba\n",
        "\n",
        "def extract_problem(text):\n",
        "  # 删掉标点符号\n",
        "  text = re.sub(r'\\p{P}+', '', text) \n",
        "  # 删掉空格、换行符、信息保密、信息不保密、距离、时间、数字、投诉人信息\n",
        "  text = re.sub(r'(\\s|\\n|信息[不]?保密|\\d+[m米年月日]?|(.{1}先生|.{1}女士|市民)(来电)?反映)', '', text) \n",
        "\n",
        "  if '问题描述' in text and '诉求目的' in text:\n",
        "    text = re.search(r'(?<=问题描述).*(?=诉求目的)', text).group()\n",
        "\n",
        "  # 删掉停用词\n",
        "  with open(f'{data_path}/stopwords/cn_stopwords.txt') as f:\n",
        "    stopwords = f.read().splitlines() \n",
        "\n",
        "  seg_list = jieba.cut(text)\n",
        "\n",
        "  result = ''.join([s for s in seg_list if s not in stopwords])\n",
        "  return result\n",
        "\n",
        "df['sentence1'] = df['sentence1'].apply(extract_problem)\n",
        "df['sentence2'] = df['sentence2'].apply(extract_problem)"
      ],
      "metadata": {
        "id": "F4oPQTxYj1TV",
        "colab": {
          "base_uri": "https://localhost:8080/"
        },
        "outputId": "4c6dafba-ef2f-4101-bb9d-edec10005f17"
      },
      "execution_count": 7,
      "outputs": [
        {
          "output_type": "stream",
          "name": "stderr",
          "text": [
            "Building prefix dict from the default dictionary ...\n",
            "Dumping model to file cache /tmp/jieba.cache\n",
            "Loading model cost 1.000 seconds.\n",
            "Prefix dict has been built successfully.\n"
          ]
        }
      ]
    },
    {
      "cell_type": "code",
      "source": [
        "df.to_excel(f'{data_path}/labeled_data/final_data.xlsx', index=False)"
      ],
      "metadata": {
        "id": "-tTTba9XjD7t"
      },
      "execution_count": 8,
      "outputs": []
    }
  ]
}