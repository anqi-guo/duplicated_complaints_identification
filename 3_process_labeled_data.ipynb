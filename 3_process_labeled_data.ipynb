{
  "nbformat": 4,
  "nbformat_minor": 0,
  "metadata": {
    "colab": {
      "name": "3. process_labeled_data.ipynb",
      "provenance": [],
      "authorship_tag": "ABX9TyMPhvFIaeWjynDYH/epohYU",
      "include_colab_link": true
    },
    "kernelspec": {
      "name": "python3",
      "display_name": "Python 3"
    },
    "language_info": {
      "name": "python"
    }
  },
  "cells": [
    {
      "cell_type": "markdown",
      "metadata": {
        "id": "view-in-github",
        "colab_type": "text"
      },
      "source": [
        "<a href=\"https://colab.research.google.com/github/anqi-guo/duplicated_complaints_identification/blob/main/3_process_labeled_data.ipynb\" target=\"_parent\"><img src=\"https://colab.research.google.com/assets/colab-badge.svg\" alt=\"Open In Colab\"/></a>"
      ]
    },
    {
      "cell_type": "code",
      "execution_count": null,
      "metadata": {
        "id": "yhwRfWfHiDV6"
      },
      "outputs": [],
      "source": [
        "from google.colab import drive\n",
        "drive.mount('/content/drive')\n",
        "\n",
        "import pandas as pd\n",
        "import os\n",
        "\n",
        "path = '/content/drive/My Drive/work/重复线索识别/labeled_data_xlsx'\n",
        "\n",
        "df_list = []\n",
        "for file in os.listdir(path):\n",
        "  dff = pd.read_excel(f'{path}/{file}')\n",
        "  dff.columns = ['label', 'sentence1', 'sentence2']\n",
        "  df_list.append(dff)\n",
        "\n",
        "df = pd.concat(df_list)\n",
        "df.head()"
      ]
    },
    {
      "cell_type": "code",
      "source": [
        "df = df[~((df['sentence1'].str.contains('前期工单|原工单|已有工单|前单号'))|(df['sentence2'].str.contains('前期工单|原工单|已有工单|前单号')))]\n",
        "df.shape"
      ],
      "metadata": {
        "id": "RgJcW7k6ju3u"
      },
      "execution_count": null,
      "outputs": []
    },
    {
      "cell_type": "code",
      "source": [
        "# 删掉重复句子对\n",
        "def sort_list(sent1, sent2):\n",
        "  sents_list = list(sent1) + list(sent2)\n",
        "  sents_list.sort()\n",
        "  return ''.join(sents_list)\n",
        "\n",
        "df['word_list'] = df.apply(lambda row: sort_list(row['sentence1'],row['sentence2']), axis=1)\n",
        "\n",
        "df.drop_duplicates(subset=['word_list'], keep='first', inplace=True)\n",
        "\n",
        "df.shape"
      ],
      "metadata": {
        "id": "WmtVGfyyjzfl"
      },
      "execution_count": null,
      "outputs": []
    },
    {
      "cell_type": "code",
      "source": [
        "import regex as re\n",
        "import jieba\n",
        "\n",
        "def extract_problem(text):\n",
        "  text = re.sub(r'\\p{P}+', '', text) # 删掉标点符号\n",
        "  text = re.sub(r'\\s', '', text) # 删掉空格\n",
        "  text = re.sub(r'\\n', '', text)\n",
        "\n",
        "  if '问题描述' in text and '诉求目的' in text:\n",
        "    result = re.search(r'(?<=问题描述).*(?=诉求目的)', text).group()\n",
        "\n",
        "  elif text.startswith('市民来电反映'):\n",
        "    result = text.replace('市民来电反映', '')\n",
        "    \n",
        "  else:\n",
        "    result = text\n",
        "  \n",
        "  result = re.sub('信息.{0,3}保密', '', result) # 删掉\"信息保密\"或\"信息不保密\"\n",
        "  result = re.sub(r'\\d+[米m]', '', result) # 删掉距离信息\n",
        "  result = re.sub(r'\\d+(年|月|月份|日)', '', result) # 删掉时间信息\n",
        "  result = re.sub(r'(.{1}先生|.{1}女士)|市民)(来电)?反映', '', result) # 删掉投诉人信息\n",
        "\n",
        "  # 删掉停用词\n",
        "  with open('/content/drive/My Drive/work/重复线索识别/stopwords/cn_stopwords.txt') as f:\n",
        "    stopwords = f.read().splitlines() \n",
        "\n",
        "  seg_list = jieba.cut(result)\n",
        "\n",
        "  result = ''.join([s for s in seg_list if s not in stopwords])\n",
        "\n",
        "  return result\n",
        "\n",
        "df['sentence1'] = df['sentence1'].apply(extract_problem)\n",
        "df['sentence2'] = df['sentence2'].apply(extract_problem)"
      ],
      "metadata": {
        "id": "F4oPQTxYj1TV"
      },
      "execution_count": null,
      "outputs": []
    },
    {
      "cell_type": "code",
      "source": [
        "df.to_excel('/content/drive/My Drive/work/重复线索识别/data/processed_data/labeled_data/final_data.xlsx', index=False)"
      ],
      "metadata": {
        "id": "-tTTba9XjD7t"
      },
      "execution_count": null,
      "outputs": []
    }
  ]
}